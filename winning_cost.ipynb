{
 "cells": [
  {
   "cell_type": "markdown",
   "metadata": {},
   "source": [
    "# Sabermetrics-A statistical approch to baseball"
   ]
  },
  {
   "cell_type": "markdown",
   "metadata": {},
   "source": [
    "# MONEYBALL\n",
    "\n",
    "## Trying to find out the increased cost of winning"
   ]
  },
  {
   "cell_type": "code",
   "execution_count": 55,
   "metadata": {
    "collapsed": true
   },
   "outputs": [],
   "source": [
    "import pandas as pd\n",
    "import numpy as np\n",
    "import matplotlib.pyplot as plt\n",
    "import csv\n",
    "%matplotlib inline\n",
    "# 2 files used -team.csv and salaries.csv\n",
    "#teams.csv -to find the winning team since 1985\n",
    "#salaries.csv -to find the cost of winning\n",
    "\n",
    "data=pd.read_csv('Teams.csv')\n",
    "#data is a python dataframe\n",
    "\n",
    "\n"
   ]
  },
  {
   "cell_type": "code",
   "execution_count": 12,
   "metadata": {
    "collapsed": false
   },
   "outputs": [],
   "source": [
    "d1=data[['yearID','teamID','WSWin']]"
   ]
  },
  {
   "cell_type": "code",
   "execution_count": 13,
   "metadata": {
    "collapsed": false
   },
   "outputs": [
    {
     "name": "stdout",
     "output_type": "stream",
     "text": [
      "     yearID teamID WSWin\n",
      "137    1884    PRO     Y\n",
      "173    1886    SL4     Y\n",
      "197    1887    DTN     Y\n",
      "213    1888    NY1     Y\n",
      "229    1889    NY1     Y\n"
     ]
    }
   ],
   "source": [
    "d=d1[d1['WSWin']=='Y']\n",
    "# Now d has all the world series winners yearwise\n",
    "print d[:5]\n"
   ]
  },
  {
   "cell_type": "code",
   "execution_count": 14,
   "metadata": {
    "collapsed": false
   },
   "outputs": [
    {
     "name": "stdout",
     "output_type": "stream",
     "text": [
      "   yearID teamID   salary\n",
      "0    1985    BAL  1472819\n",
      "1    1985    BAL  1090000\n",
      "2    1985    BAL   800000\n",
      "3    1985    BAL   725000\n",
      "4    1985    BAL   641667\n"
     ]
    }
   ],
   "source": [
    "#Now we need to get the commulative salaries/payrolls of the employees\n",
    "salary=pd.read_csv('Salaries.csv')\n",
    "s1=salary[['yearID','teamID','salary']]\n",
    "print s1[0:5]\n"
   ]
  },
  {
   "cell_type": "code",
   "execution_count": 26,
   "metadata": {
    "collapsed": false
   },
   "outputs": [
    {
     "name": "stdout",
     "output_type": "stream",
     "text": [
      "[9.0, 15.0, 6.0, 16.0, 15.0, 14.0, 23.0, 44.0, 47.0, 0.0, 47.0, 54.0, 48.0, 66.0, 86.0, 92.0, 85.0, 61.0, 49.0, 127.0, 75.0, 88.0, 143.0, 97.0, 201.0, 98.0, 105.0, 117.0]\n"
     ]
    }
   ],
   "source": [
    "#we need to find the sum of all the salaries to get the cost of the total team for the year\n",
    "#Initalize payroll (list object)\n",
    "commulative_sal=[]\n",
    "for years in xrange(1985,2013):\n",
    "    dd=d[d['yearID']==years]\n",
    "    ss=s1[s1['yearID']==years]\n",
    "    m=pd.merge(dd,ss,on=['yearID','teamID'],how='inner')\n",
    "    commulative_sal.append(float(sum(m['salary'])/1000000))\n",
    "print commulative_sal"
   ]
  },
  {
   "cell_type": "code",
   "execution_count": 38,
   "metadata": {
    "collapsed": false
   },
   "outputs": [
    {
     "name": "stdout",
     "output_type": "stream",
     "text": [
      "[8.0, 10.0, 9.0, 10.0, 11.0, 14.0, 20.0, 26.0, 30.0, 30.0, 31.0, 31.0, 37.0, 42.0, 49.0, 55.0, 65.0, 67.0, 70.0, 69.0, 72.0, 77.0, 82.0, 89.0, 88.0, 90.0, 92.0, 97.0]\n"
     ]
    }
   ],
   "source": [
    "# next we find the average cost of a team for the year\n",
    "avg=pd.read_csv('Salaries.csv')\n",
    "a1 = avg[['yearID','salary']]\n",
    "average = []\n",
    "\n",
    "\n",
    "def FindAverage(years):\n",
    "    a2 = a1[a1['yearID'] == years]\n",
    "    average.append(float(sum(a2['salary'])/30000000))\n",
    "\n",
    "\n",
    "\n",
    "for i in range(1985,2013):\n",
    "    FindAverage(i)\n",
    "\n",
    "print average\n"
   ]
  },
  {
   "cell_type": "code",
   "execution_count": 42,
   "metadata": {
    "collapsed": false
   },
   "outputs": [
    {
     "name": "stdout",
     "output_type": "stream",
     "text": [
      "[1985, 1986, 1987, 1988, 1989, 1990, 1991, 1992, 1993, 1994, 1995, 1996, 1997, 1998, 1999, 2000, 2001, 2002, 2003, 2004, 2005, 2006, 2007, 2008, 2009, 2010, 2011, 2012]\n"
     ]
    }
   ],
   "source": [
    "years = []\n",
    "for i in range(1985,2013):\n",
    "    years.append(i)\n",
    "\n",
    "print years"
   ]
  },
  {
   "cell_type": "code",
   "execution_count": 54,
   "metadata": {
    "collapsed": false
   },
   "outputs": [
    {
     "data": {
      "image/png": "[encoded data removed]",
      "text/plain": [
       "<matplotlib.figure.Figure at 0xc515908>"
      ]
     },
     "metadata": {},
     "output_type": "display_data"
    }
   ],
   "source": [
    "plt.plot(years, commulative_sal, label = 'Winners', marker = 'o', color = 'r',linestyle = '-.')\n",
    "plt.plot(years, average, label = 'Average', marker = 's', color = 'b', linestyle = '--')\n",
    "plt.xlabel('Years')\n",
    "plt.ylabel('Total Cost')\n",
    "plt.title('Average and Winner Budgets')\n",
    "plt.legend()\n",
    "plt.show()"
   ]
  },
  {
   "cell_type": "code",
   "execution_count": null,
   "metadata": {
    "collapsed": false
   },
   "outputs": [],
   "source": []
  },
  {
   "cell_type": "code",
   "execution_count": null,
   "metadata": {
    "collapsed": true
   },
   "outputs": [],
   "source": []
  },
  {
   "cell_type": "code",
   "execution_count": null,
   "metadata": {
    "collapsed": true
   },
   "outputs": [],
   "source": []
  }
 ],
 "metadata": {
  "kernelspec": {
   "display_name": "Python 2",
   "language": "python",
   "name": "python2"
  },
  "language_info": {
   "codemirror_mode": {
    "name": "ipython",
    "version": 2
   },
   "file_extension": ".py",
   "mimetype": "text/x-python",
   "name": "python",
   "nbconvert_exporter": "python",
   "pygments_lexer": "ipython2",
   "version": "2.7.11"
  }
 },
 "nbformat": 4,
 "nbformat_minor": 0
}
